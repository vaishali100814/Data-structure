{
  "nbformat": 4,
  "nbformat_minor": 0,
  "metadata": {
    "colab": {
      "provenance": []
    },
    "kernelspec": {
      "name": "python3",
      "display_name": "Python 3"
    },
    "language_info": {
      "name": "python"
    }
  },
  "cells": [
    {
      "cell_type": "markdown",
      "source": [],
      "metadata": {
        "id": "M0uufAsAjlk-"
      }
    },
    {
      "cell_type": "markdown",
      "source": [
        "# Data Types and Structures"
      ],
      "metadata": {
        "id": "hHYA9JjTjmvZ"
      }
    },
    {
      "cell_type": "markdown",
      "source": [
        "1. What are data structures, and why are they important?\n",
        "  - Data structures are fundamental to computer science, defining how data is organized, stored, and processed in a computer system. They provide a way to efficiently access, manage, and manipulate data, which is crucial for building efficient and effective software applications. Data structures are essential for performance, readability, and scalability of code, as well as how well it solves the problem at hand.\n",
        "2. Explain the difference between mutable and immutable data types with examples.\n",
        "  - In programming, mutable data types allow their values to be modified after creation, while immutable data types cannot be changed once created.\n",
        "3. What are the main differences between lists and tuples in Python?\n",
        "  - Lists and tuples are both fundamental sequence data types in Python, used to store collections of items. However, they differ significantly in mutability and usage.\n",
        "4. Describe how dictionaries store data.\n",
        "  - Dictionaries are unordered collections of data and are represented with curly brackets { } . Like lists, dictionaries are mutable(changeable) and indexed. With dictionaries, data is stored in a key:value format.\n",
        "5. Why might you use a set instead of a list in Python?\n",
        "  - Sets and lists serve different purposes in Python, leading to scenarios where one is more suitable than the other. Sets are particularly useful when:\n",
        "  Uniqueness is required, membership testing is frequent, set operations are needed. On the other hand lists are more appropriate when order matters, duplicates are allowed, element modification by index is needed.\n",
        "6. What is a string in Python, and how is it different from a list?\n",
        "  - Strings in Python are sequences of characters enclosed in quotes ('' or “”). Lists are ordered collections of items enclosed in square brackets []. 2) Strings are immutable, meaning they cannot be changed once created, while lists are mutable and can be modified as needed.\n",
        "7. How do tuples ensure data integrity in Python?\n",
        "  - Tuples in Python ensure data integrity through their immutability. Once a tuple is created, its elements cannot be modified, added, or removed. This characteristic is crucial for maintaining the consistency and reliability of data, especially in scenarios where data should not be altered during program execution.\n",
        "8. What is a hash table, and how does it relate to dictionaries in Python?\n",
        "  - A hash table is a data structure that stores key-value pairs, where each key is unique and the values can be of any data type. It uses a hash function to compute the index for each key, determining its position in an underlying array. This mechanism enables efficient data retrieval, insertion, and deletion operations, typically achieving average time complexity of O(1).In Python, dictionaries are implemented using hash tables. When a key-value pair is added to a dictionary, Python computes the hash value of the key and uses it to determine the storage location.\n",
        "9. Can lists contain different data types in Python?\n",
        "  - Yes, lists in Python can contain elements of different data types. This is a key feature of Python lists, making them highly flexible and versatile. A single list can hold integers, strings, floats, booleans, and even other lists or more complex objects like dictionaries. For example, the list my_list = [1, \"hello\", 3.14, True] is perfectly valid in Python. This flexibility allows for the creation of data structures that can represent a wide range of information.\n",
        "10. Explain why strings are immutable in Python.\n",
        "  - Strings immutability ensures one reference does not change the value for others pointing to the same string. Security: Strings are used for sensitive data like usernames and passwords. Immutability prevents attackers from altering the values.\n",
        "11. What advantages do dictionaries offer over lists for certain tasks?\n",
        "  - It is more efficient to use dictionaries for the searching of elements as it can be carried out in a much faster manner. Lists are used when it is important to maintain the order of the elements and dealing with data that may get changed in the future.\n",
        "12. Describe a scenario where using a tuple would be preferable over a list.\n",
        "  - Tuples are immutable. Hence, they are primarily used to store data that doesn't change frequently. Any operation can store data in a tuple when you don't want it to change. Tuples are great to use if you want the data in your collection to be read-only, never to change, and always remain the same and constant.\n",
        "13. How do sets handle duplicate values in Python?\n",
        "  - Sets in Python are designed to store only unique elements. When a user attempts to add a duplicate value to a set, the set automatically discards the duplicate, ensuring that each element within the set is unique. This behavior is fundamental to the nature of sets as unordered collections of distinct items. If a set is initialized with duplicate values, or if duplicate values are added later, only one instance of each unique value will be retained in the set.\n",
        "14. How does the “in” keyword work differently for lists and dictionaries?\n",
        "  - The key of the dictionary is a unique value as well as the set, and the execution time is about the same as for sets. On the other hand, dictionary values can be duplicated like a list.\n",
        "15. Can you modify the elements of a tuple? Explain why or why not?\n",
        "  - No, you cannot directly modify the elements of a tuple in Python after it's been created. Tuples are immutable, meaning their contents cannot be changed once they are defined. Trying to modify a tuple will result in a TypeError.\n",
        "16.  What is a nested dictionary, and give an example of its use case?\n",
        "  - A nested dictionary in Python is a dictionary where the values are themselves dictionaries. This allows for the creation of a hierarchical structure where data can be organized into multiple levels. A common use case for nested dictionaries is representing complex, multi-layered data, such as employee information with nested address and contact details.\n",
        "17. Describe the time complexity of accessing elements in a dictionary.\n",
        "  - Accessing an element in a dictionary using its key typically has a time complexity of O(1) on average, meaning it takes constant time, regardless of the dictionary's size. However, in the worst-case scenario, it can degrade to O(n), where n is the number of key-value pairs, if there are many hash collisions.\n",
        "18. In what situations are lists preferred over dictionaries.\n",
        "  - For quick data look-ups, configurations, or caches, favor dictionaries. For ordered collections and sequence operations, such as maintaining a stack or queue, lists are more suitable.\n",
        "19. Why are dictionaries considered unordered, and how does that affect data retrieval?\n",
        "  - A dictionary is termed an unordered collection of objects because dictionaries do not maintain any inherent order of the items based on when they were added. In older versions of Python, dictionaries did not preserve insertion order at all.\n",
        "20. Explain the difference between a list and a dictionary in terms of data retrieval.\n",
        "  - In terms of data retrieval, a dictionary offers significantly faster lookup of values based on unique keys compared to a list, which relies on numerical indices. Dictionaries, using a hash table, can find values associated with a key in an average of O(1) (constant) time, while lists, requiring sequential searching, have an average time complexity of O(n) (linear).\n",
        "                      \n",
        "   \n"
      ],
      "metadata": {
        "id": "uuGYPJJVkBU6"
      }
    },
    {
      "cell_type": "code",
      "source": [
        "# Write a code to create a string with your name and print it.\n",
        "\n",
        "name = input(\"enter your name:\")\n",
        "print(\"name:\")\n"
      ],
      "metadata": {
        "colab": {
          "base_uri": "https://localhost:8080/"
        },
        "id": "AJP1g7zxRHzs",
        "outputId": "8480f052-c525-4a84-af28-e9a2629cd114"
      },
      "execution_count": 1,
      "outputs": [
        {
          "output_type": "stream",
          "name": "stdout",
          "text": [
            "enter your name:Vaishali Sharma\n",
            "name:\n"
          ]
        }
      ]
    },
    {
      "cell_type": "code",
      "source": [
        "# Write a code to find the length of the string \"Hello World\".\n",
        "\n",
        "a = \"hello\"\n",
        "print(len(a))"
      ],
      "metadata": {
        "colab": {
          "base_uri": "https://localhost:8080/"
        },
        "id": "7itNuP48TC60",
        "outputId": "6258d708-165b-402e-a4e5-b0122d121eb8"
      },
      "execution_count": 2,
      "outputs": [
        {
          "output_type": "stream",
          "name": "stdout",
          "text": [
            "5\n"
          ]
        }
      ]
    },
    {
      "cell_type": "code",
      "source": [
        "# Write a code to slice the first 3 characters from the string \"Python Programming\".\n",
        "\n",
        "text = \"Python Programming\"\n",
        "sliced_text = text[0:3]\n",
        "print(sliced_text)"
      ],
      "metadata": {
        "colab": {
          "base_uri": "https://localhost:8080/"
        },
        "id": "K2YlW_y5TwnO",
        "outputId": "d7fd742d-18cd-4259-9516-97cf5d20ce28"
      },
      "execution_count": 3,
      "outputs": [
        {
          "output_type": "stream",
          "name": "stdout",
          "text": [
            "Pyt\n"
          ]
        }
      ]
    },
    {
      "cell_type": "code",
      "source": [
        "# Write a code to convert the string \"hello\" to uppercase.\n",
        "\n",
        "a = \"hello world\"\n",
        "print(a.upper())"
      ],
      "metadata": {
        "colab": {
          "base_uri": "https://localhost:8080/"
        },
        "id": "mw7AVMujUNOX",
        "outputId": "09ae1ec7-4052-473f-8666-1c36e58b9716"
      },
      "execution_count": 4,
      "outputs": [
        {
          "output_type": "stream",
          "name": "stdout",
          "text": [
            "HELLO WORLD\n"
          ]
        }
      ]
    },
    {
      "cell_type": "markdown",
      "source": [],
      "metadata": {
        "id": "jv_0gLXEj_KG"
      }
    },
    {
      "cell_type": "code",
      "source": [
        "# Write a code to replace the word \"apple\" with \"orange\" in the string \"I like apple\".\n",
        "\n",
        "str = \"i like apple\"\n",
        "print(str.replace(\"apple\",\"orange\"))"
      ],
      "metadata": {
        "colab": {
          "base_uri": "https://localhost:8080/"
        },
        "id": "Kf6nzrghXd3Q",
        "outputId": "62c0c671-7935-4467-ad74-c3c30e2c8c8e"
      },
      "execution_count": 7,
      "outputs": [
        {
          "output_type": "stream",
          "name": "stdout",
          "text": [
            "i like orange\n"
          ]
        }
      ]
    },
    {
      "cell_type": "code",
      "source": [
        "# Write a code to create a list with numbers 1 to 5 and print it.\n",
        "\n",
        "nums = range(1, 5)\n",
        "print(list(nums))\n"
      ],
      "metadata": {
        "colab": {
          "base_uri": "https://localhost:8080/"
        },
        "id": "1CEsx9WWX2w8",
        "outputId": "5a90cc24-b95d-47cf-9f3c-9860dd1205c8"
      },
      "execution_count": 9,
      "outputs": [
        {
          "output_type": "stream",
          "name": "stdout",
          "text": [
            "[1, 2, 3, 4]\n"
          ]
        }
      ]
    },
    {
      "cell_type": "code",
      "source": [
        "# Write a code to append the number 10 to the list [1, 2, 3, 4].\n",
        "\n",
        "numbers=[1,2,3,4]\n",
        "print(numbers)\n",
        "numbers.append(10)\n",
        "print(numbers)"
      ],
      "metadata": {
        "colab": {
          "base_uri": "https://localhost:8080/"
        },
        "id": "JWj0jcRvYnFK",
        "outputId": "e3b239a2-2236-4d12-e5e5-a26ac68e076b"
      },
      "execution_count": 10,
      "outputs": [
        {
          "output_type": "stream",
          "name": "stdout",
          "text": [
            "[1, 2, 3, 4]\n",
            "[1, 2, 3, 4, 10]\n"
          ]
        }
      ]
    },
    {
      "cell_type": "code",
      "source": [
        "# Write a code to remove the number 3 from the list [1, 2, 3, 4, 5].\n",
        "\n",
        "list = [1, 2, 3, 4, 5]\n",
        "list.remove(3)\n",
        "print(list)"
      ],
      "metadata": {
        "colab": {
          "base_uri": "https://localhost:8080/"
        },
        "id": "Y2P_31PLaGaV",
        "outputId": "5e256e7a-3347-47f4-c90f-1cead2f76bb3"
      },
      "execution_count": 11,
      "outputs": [
        {
          "output_type": "stream",
          "name": "stdout",
          "text": [
            "[1, 2, 4, 5]\n"
          ]
        }
      ]
    },
    {
      "cell_type": "code",
      "source": [
        "# Write a code to access the second element in the list ['a', 'b', 'c', 'd'].\n",
        "\n",
        "my_list = ['a', 'b', 'c', 'd']\n",
        "second_element = my_list[1]\n",
        "print(second_element)"
      ],
      "metadata": {
        "colab": {
          "base_uri": "https://localhost:8080/"
        },
        "id": "t_y-fYv5bRtO",
        "outputId": "0b1abcd8-3aa2-4af5-aab0-e460618661d1"
      },
      "execution_count": 12,
      "outputs": [
        {
          "output_type": "stream",
          "name": "stdout",
          "text": [
            "b\n"
          ]
        }
      ]
    },
    {
      "cell_type": "code",
      "source": [
        "#  Write a code to reverse the list [10, 20, 30, 40, 50].\n",
        "\n",
        "lst = [10,20,30,40]\n",
        "print(lst[::-1])"
      ],
      "metadata": {
        "colab": {
          "base_uri": "https://localhost:8080/"
        },
        "id": "3WxDeZ3fcA9N",
        "outputId": "1cc2fbfb-c73f-4424-e4e8-80695d98e84b"
      },
      "execution_count": 13,
      "outputs": [
        {
          "output_type": "stream",
          "name": "stdout",
          "text": [
            "[40, 30, 20, 10]\n"
          ]
        }
      ]
    },
    {
      "cell_type": "code",
      "source": [
        "# Write a code to create a tuple with the elements 100, 200, 300 and print it.\n",
        "\n",
        "my_tuple = (100, 200, 300)\n",
        "print(my_tuple)"
      ],
      "metadata": {
        "colab": {
          "base_uri": "https://localhost:8080/"
        },
        "id": "PL2Wv8ePc4C2",
        "outputId": "221d7a5a-e9c0-4ef1-f56c-f3ec4c4f51ca"
      },
      "execution_count": 14,
      "outputs": [
        {
          "output_type": "stream",
          "name": "stdout",
          "text": [
            "(100, 200, 300)\n"
          ]
        }
      ]
    },
    {
      "cell_type": "code",
      "source": [
        "# Write a code to access the second-to-last element of the tuple ('red', 'green', 'blue', 'yellow').\n",
        "\n",
        "colors = ('red', 'green', 'blue', 'yellow')\n",
        "second_to_last = colors[-2]\n",
        "print(second_to_last)"
      ],
      "metadata": {
        "colab": {
          "base_uri": "https://localhost:8080/"
        },
        "id": "UseBoSubdIhS",
        "outputId": "0d987105-89d8-40b8-c267-1ef9d51eb89d"
      },
      "execution_count": 15,
      "outputs": [
        {
          "output_type": "stream",
          "name": "stdout",
          "text": [
            "blue\n"
          ]
        }
      ]
    },
    {
      "cell_type": "code",
      "source": [
        "# Write a code to find the minimum number in the tuple (10, 20, 5, 15).\n",
        "\n",
        "my_tuple = (10, 20, 5, 15)\n",
        "min_number = min(my_tuple)\n",
        "print(min_number)"
      ],
      "metadata": {
        "colab": {
          "base_uri": "https://localhost:8080/"
        },
        "id": "riZgGc0ddVZU",
        "outputId": "83a7151a-8297-45e5-a227-545074a6f278"
      },
      "execution_count": 16,
      "outputs": [
        {
          "output_type": "stream",
          "name": "stdout",
          "text": [
            "5\n"
          ]
        }
      ]
    },
    {
      "cell_type": "code",
      "source": [
        "#  Write a code to find the index of the element \"cat\" in the tuple ('dog', 'cat', 'rabbit').\n",
        "\n",
        "animals = ['cat', 'dog', 'rabbit']\n",
        "index = animals.index('cat')\n",
        "print(index)"
      ],
      "metadata": {
        "colab": {
          "base_uri": "https://localhost:8080/"
        },
        "id": "R_QJmRG2eSMZ",
        "outputId": "08e21b1f-4bbc-4896-bded-69f122e0b1e9"
      },
      "execution_count": 19,
      "outputs": [
        {
          "output_type": "stream",
          "name": "stdout",
          "text": [
            "0\n"
          ]
        }
      ]
    },
    {
      "cell_type": "code",
      "source": [
        "#  Write a code to create a tuple containing three different fruits and check if \"kiwi\" is in it.\n",
        "\n",
        "thistuple = (\"apple\", \"banana\", \"kiwi\")\n",
        "if \"kiwi\" in thistuple:\n",
        "  print(\"yes, 'kiwi' is in the fruits tuple\")"
      ],
      "metadata": {
        "colab": {
          "base_uri": "https://localhost:8080/"
        },
        "id": "SP3yieJblTng",
        "outputId": "f2fa12be-df96-406d-8237-9988aa5930c3"
      },
      "execution_count": 20,
      "outputs": [
        {
          "output_type": "stream",
          "name": "stdout",
          "text": [
            "yes, 'kiwi' is in the fruits tuple\n"
          ]
        }
      ]
    },
    {
      "cell_type": "code",
      "source": [
        "#  Write a code to create a set with the elements 'a', 'b', 'c' and print it.\n",
        "\n",
        "my_set = {'a', 'b', 'c'}\n",
        "print(my_set)"
      ],
      "metadata": {
        "colab": {
          "base_uri": "https://localhost:8080/"
        },
        "id": "0aB4-B8Rm82w",
        "outputId": "4fe7aef5-c03b-43c7-81dc-eb1273963600"
      },
      "execution_count": 21,
      "outputs": [
        {
          "output_type": "stream",
          "name": "stdout",
          "text": [
            "{'c', 'a', 'b'}\n"
          ]
        }
      ]
    },
    {
      "cell_type": "code",
      "source": [
        "# Write a code to clear all elements from the set {1, 2, 3, 4, 5}.\n",
        "\n",
        "my_set = {1, 2, 3, 4, 5}\n",
        "my_set.clear()\n",
        "print(my_set)"
      ],
      "metadata": {
        "colab": {
          "base_uri": "https://localhost:8080/"
        },
        "id": "smqtE2iwnK5E",
        "outputId": "1cbb7037-1e86-4c25-bc55-4f270daef699"
      },
      "execution_count": 22,
      "outputs": [
        {
          "output_type": "stream",
          "name": "stdout",
          "text": [
            "set()\n"
          ]
        }
      ]
    },
    {
      "cell_type": "code",
      "source": [
        "# Write a code to remove the element 4 from the set {1, 2, 3, 4}.\n",
        "\n",
        "my_set = {1, 2, 3, 4}\n",
        "my_set.discard(4)\n",
        "print(my_set)\n"
      ],
      "metadata": {
        "colab": {
          "base_uri": "https://localhost:8080/"
        },
        "id": "wfHgoXB6nd_n",
        "outputId": "c06a14d1-5f36-4270-bc44-4365f4aecd0b"
      },
      "execution_count": 23,
      "outputs": [
        {
          "output_type": "stream",
          "name": "stdout",
          "text": [
            "{1, 2, 3}\n"
          ]
        }
      ]
    },
    {
      "cell_type": "code",
      "source": [
        "# Write a code to find the union of two sets {1, 2, 3} and {3, 4, 5}.\n",
        "\n",
        "set1 = {1, 2, 3}\n",
        "set2 = {3, 4, 5}\n",
        "\n",
        "union_set = set1.copy()\n",
        "for element in set2:\n",
        "    if element not in union_set:\n",
        "        union_set.add(element)\n",
        "\n",
        "print(union_set)"
      ],
      "metadata": {
        "colab": {
          "base_uri": "https://localhost:8080/"
        },
        "id": "UBNXTMYQnqc0",
        "outputId": "f0ed55f5-5e8f-4fff-85f9-7bf35386188a"
      },
      "execution_count": 24,
      "outputs": [
        {
          "output_type": "stream",
          "name": "stdout",
          "text": [
            "{1, 2, 3, 4, 5}\n"
          ]
        }
      ]
    },
    {
      "cell_type": "code",
      "source": [
        "# Write a code to find the intersection of two sets {1, 2, 3} and {2, 3, 4}.\n",
        "\n",
        "base_set = {1, 2, 3}\n",
        "base_set1 = {2, 3, 4}\n",
        "res = base_set.intersection(base_set, base_set1)\n",
        "print(res)"
      ],
      "metadata": {
        "colab": {
          "base_uri": "https://localhost:8080/"
        },
        "id": "lFaxwTVxowrB",
        "outputId": "8a342a58-c347-4a4a-fcc7-3ee7683bccba"
      },
      "execution_count": 26,
      "outputs": [
        {
          "output_type": "stream",
          "name": "stdout",
          "text": [
            "{2, 3}\n"
          ]
        }
      ]
    },
    {
      "cell_type": "code",
      "source": [
        "# Write a code to create a dictionary with the keys \"name\", \"age\", and \"city\", and print it.\n",
        "\n",
        "my_dict = {\"name\": \"Alice\", \"age\": 30, \"city\": \"New York\"}\n",
        "for key in my_dict:\n",
        "    print(key)"
      ],
      "metadata": {
        "colab": {
          "base_uri": "https://localhost:8080/"
        },
        "id": "Xj4QGIQWq_yT",
        "outputId": "bc46ae3e-e873-4cee-b331-ce2edc6e0986"
      },
      "execution_count": 30,
      "outputs": [
        {
          "output_type": "stream",
          "name": "stdout",
          "text": [
            "name\n",
            "age\n",
            "city\n"
          ]
        }
      ]
    },
    {
      "cell_type": "code",
      "source": [
        "#  Write a code to add a new key-value pair \"country\": \"USA\" to the dictionary {'name': 'John', 'age': 25}.\n",
        "\n",
        "dict_list = [\n",
        "    {\"name\": \"John\", \"age\": 25},\n",
        "    {\"city\": \"New York\", \"country\": \"USA\"},\n",
        "    {\"language\": \"Python\", \"level\": \"Intermediate\"}\n",
        "]\n",
        "updated_dict = {key: value for dictionary in dict_list for key, value in dictionary.items()}\n",
        "print(\"Updated Dictionary:\", updated_dict)"
      ],
      "metadata": {
        "colab": {
          "base_uri": "https://localhost:8080/"
        },
        "id": "Z6abFz1rsdb6",
        "outputId": "8165c41d-587e-44d5-c79f-08a7366f9b08"
      },
      "execution_count": 33,
      "outputs": [
        {
          "output_type": "stream",
          "name": "stdout",
          "text": [
            "Updated Dictionary: {'name': 'John', 'age': 25, 'city': 'New York', 'country': 'USA', 'language': 'Python', 'level': 'Intermediate'}\n"
          ]
        }
      ]
    },
    {
      "cell_type": "code",
      "source": [
        "# Write a code to access the value associated with the key \"name\" in the dictionary {'name': 'Alice', 'age': 30}.\n",
        "\n",
        "my_dict = {'name': 'Alice', 'age': 30}\n",
        "print(my_dict['name'])"
      ],
      "metadata": {
        "colab": {
          "base_uri": "https://localhost:8080/"
        },
        "id": "HeCsYX_9sw8e",
        "outputId": "94aa810b-3a1d-4467-e451-0bc396af986c"
      },
      "execution_count": 34,
      "outputs": [
        {
          "output_type": "stream",
          "name": "stdout",
          "text": [
            "Alice\n"
          ]
        }
      ]
    },
    {
      "cell_type": "code",
      "source": [
        "#  Write a code to remove the key \"age\" from the dictionary {'name': 'Bob', 'age': 22, 'city': 'New York'}.\n",
        "\n",
        "my_dict = {\"name\": \"Bob\", \"age\": 22, \"city\": \"New York\"}\n",
        "del my_dict[\"age\"]\n",
        "print(my_dict)"
      ],
      "metadata": {
        "colab": {
          "base_uri": "https://localhost:8080/"
        },
        "id": "hriKMzULuQOk",
        "outputId": "233a9876-2130-4f11-80c0-80547ff94de4"
      },
      "execution_count": 36,
      "outputs": [
        {
          "output_type": "stream",
          "name": "stdout",
          "text": [
            "{'name': 'Bob', 'city': 'New York'}\n"
          ]
        }
      ]
    },
    {
      "cell_type": "code",
      "source": [
        "# Write a code to check if the key \"city\" exists in the dictionary {'name': 'Alice', 'city': 'Paris'}.\n",
        "\n",
        "student = {\"Name\": 'Alice', \"City\": 'Paris'}\n",
        "\n",
        "if \"City\" in student:\n",
        "    print(\"Key exists.\")\n",
        "else:\n",
        "    print(\"Key does not exist.\")"
      ],
      "metadata": {
        "colab": {
          "base_uri": "https://localhost:8080/"
        },
        "id": "IYijgEGPwvHg",
        "outputId": "b68db173-5459-419b-8eae-9738d46a9af0"
      },
      "execution_count": 37,
      "outputs": [
        {
          "output_type": "stream",
          "name": "stdout",
          "text": [
            "Key exists.\n"
          ]
        }
      ]
    },
    {
      "cell_type": "code",
      "source": [
        "#  Write a code to create a list, a tuple, and a dictionary, and print them all.\n",
        "\n",
        "a = [(\"a\", 1), (\"b\", 2), (\"c\", 3)]\n",
        "\n",
        "res = dict(a)\n",
        "\n",
        "print(res)"
      ],
      "metadata": {
        "colab": {
          "base_uri": "https://localhost:8080/"
        },
        "id": "FDwoQmcEx4fV",
        "outputId": "edb19c7c-b06d-4674-e6bf-29230a360291"
      },
      "execution_count": 38,
      "outputs": [
        {
          "output_type": "stream",
          "name": "stdout",
          "text": [
            "{'a': 1, 'b': 2, 'c': 3}\n"
          ]
        }
      ]
    },
    {
      "cell_type": "code",
      "source": [
        "# Write a code to create a list of 5 random numbers between 1 and 100, sort it in ascending order, and print the result.\n",
        "\n",
        "import random\n",
        "random_numbers = [random.randint(1, 100) for _ in range(5)]\n",
        "sorted_numbers = sorted(random_numbers)\n",
        "print(sorted_numbers)"
      ],
      "metadata": {
        "colab": {
          "base_uri": "https://localhost:8080/"
        },
        "id": "Q4NDAeE_zuPW",
        "outputId": "418aa2f9-36fb-4902-c181-9b217f07a8bc"
      },
      "execution_count": 40,
      "outputs": [
        {
          "output_type": "stream",
          "name": "stdout",
          "text": [
            "[9, 33, 35, 40, 94]\n"
          ]
        }
      ]
    },
    {
      "cell_type": "code",
      "source": [
        "#  Write a code to create a list with strings and print the element at the third index.\n",
        "\n",
        "l = eval(input(\"Enter the list: \"))\n",
        "print(\"Original List\")\n",
        "print(l)\n",
        "\n",
        "l = l[-1:] + l[:-1]\n",
        "\n",
        "print(\"Rotated List\")\n",
        "print(l)"
      ],
      "metadata": {
        "colab": {
          "base_uri": "https://localhost:8080/"
        },
        "id": "gnV418a30l9x",
        "outputId": "12d6b15f-8bfb-43ff-ce32-1fc49c0bf60d"
      },
      "execution_count": 43,
      "outputs": [
        {
          "output_type": "stream",
          "name": "stdout",
          "text": [
            "Enter the list: 8,10,13\n",
            "Original List\n",
            "(8, 10, 13)\n",
            "Rotated List\n",
            "(13, 8, 10)\n"
          ]
        }
      ]
    },
    {
      "cell_type": "code",
      "source": [
        "# Write a code to combine two dictionaries into one and print the result.\n",
        "\n",
        "dict1 = {'a': 1, 'b': 2}\n",
        "dict2 = {'b': 3, 'c': 4}\n",
        "merged_dict = dict1.copy()\n",
        "merged_dict.update(dict2)\n",
        "print(\"Using update():\", merged_dict)"
      ],
      "metadata": {
        "colab": {
          "base_uri": "https://localhost:8080/"
        },
        "id": "lCHN5SKO1EKW",
        "outputId": "9b74ab69-fd5e-425a-aaef-af20834ae629"
      },
      "execution_count": 44,
      "outputs": [
        {
          "output_type": "stream",
          "name": "stdout",
          "text": [
            "Using update(): {'a': 1, 'b': 3, 'c': 4}\n"
          ]
        }
      ]
    },
    {
      "cell_type": "code",
      "source": [
        "#  Write a code to convert a list of strings into a set.\n",
        "\n",
        "def convert_list_to_set(string_list):\n",
        "    string_set = set(string_list)\n",
        "    return string_set\n",
        "\n",
        "string_list = [\"apple\", \"banana\", \"cherry\", \"apple\"]\n",
        "string_set = convert_list_to_set(string_list)\n",
        "print(string_set)"
      ],
      "metadata": {
        "colab": {
          "base_uri": "https://localhost:8080/"
        },
        "id": "b2b-W72c1rBi",
        "outputId": "c7f3e273-0fef-4299-b413-f34f5e2e1ecf"
      },
      "execution_count": 45,
      "outputs": [
        {
          "output_type": "stream",
          "name": "stdout",
          "text": [
            "{'cherry', 'apple', 'banana'}\n"
          ]
        }
      ]
    },
    {
      "cell_type": "code",
      "source": [],
      "metadata": {
        "id": "Plq1lTa-116n"
      },
      "execution_count": null,
      "outputs": []
    }
  ]
}